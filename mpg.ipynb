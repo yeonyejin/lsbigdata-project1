{
  "cells": [
    {
      "cell_type": "raw",
      "metadata": {},
      "source": [
        "---\n",
        "title: 교과서 챕터8\n",
        "format: html\n",
        "---"
      ],
      "id": "5abf488a"
    },
    {
      "cell_type": "markdown",
      "metadata": {},
      "source": [
        "##빈도 막대 그래프 그리기\n",
        "\n",
        "데이터 불러오기"
      ],
      "id": "b2c51dd6"
    },
    {
      "cell_type": "code",
      "metadata": {},
      "source": [
        "import pandas as pd\n",
        "\n",
        "mpg= pd.read_csv(\"data/mpg.csv\")\n",
        "mpg.shape"
      ],
      "id": "058ab834",
      "execution_count": null,
      "outputs": []
    },
    {
      "cell_type": "markdown",
      "metadata": {},
      "source": [
        "Seaborn 패키지 불러오기\n"
      ],
      "id": "bd76fa51"
    },
    {
      "cell_type": "code",
      "metadata": {},
      "source": [
        "import seaborn as sns\n",
        "import matplotlib.pyplot as plt"
      ],
      "id": "8b6acfe5",
      "execution_count": null,
      "outputs": []
    },
    {
      "cell_type": "markdown",
      "metadata": {},
      "source": [
        "### `barplot()`사용하기\n",
        "\n",
        "데이터 전처리하기"
      ],
      "id": "d4c95919"
    },
    {
      "cell_type": "code",
      "metadata": {},
      "source": [
        "df_mpg=mpg.groupby(\"drv\", as_index=False) \\\n",
        "   .agg(mean_hwy=('hwy', 'mean'))\n",
        "df_mpg"
      ],
      "id": "f98854d4",
      "execution_count": null,
      "outputs": []
    },
    {
      "cell_type": "markdown",
      "metadata": {},
      "source": [
        "`barplot()` 사용해서 그래프 그리기"
      ],
      "id": "a0e3d677"
    },
    {
      "cell_type": "code",
      "metadata": {},
      "source": [
        "sns.barplot(data=df_mpg.sort_values(\"mean_hwy\", ascending=False),\n",
        "            x = \"drv\", y = \"mean_hwy\",\n",
        "            hue = \"drv\")\n"
      ],
      "id": "3fb643d3",
      "execution_count": null,
      "outputs": []
    },
    {
      "cell_type": "markdown",
      "metadata": {},
      "source": [
        "### `countplot()`사용하기"
      ],
      "id": "3bf7898e"
    },
    {
      "cell_type": "code",
      "metadata": {},
      "source": [
        "sns.countplot(data=mpg, x='drv')"
      ],
      "id": "460d6be9",
      "execution_count": null,
      "outputs": []
    },
    {
      "cell_type": "code",
      "metadata": {},
      "source": [
        "import plotly.express as px\n",
        "px.scatter(data_frame = mpg, x = 'cty', y = 'hwy', color = 'drv')\n"
      ],
      "id": "1ed1bea0",
      "execution_count": null,
      "outputs": []
    }
  ],
  "metadata": {
    "kernelspec": {
      "name": "python3",
      "language": "python",
      "display_name": "Python 3 (ipykernel)"
    }
  },
  "nbformat": 4,
  "nbformat_minor": 5
}